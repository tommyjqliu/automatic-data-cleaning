{
 "cells": [
  {
   "cell_type": "code",
   "execution_count": 1,
   "metadata": {},
   "outputs": [
    {
     "name": "stdout",
     "output_type": "stream",
     "text": [
      "['int32', 'string', 'category', 'float32', 'float32', 'float32', 'bool', 'complex', 'datetime', 'timedelta', 'category']\n",
      "\n",
      "Inferred data types:\n",
      "ID: int32\n",
      "Name: string\n",
      "Age: category\n",
      "Height: float32\n",
      "Weight: float32\n",
      "Score: float32\n",
      "IsStudent: bool\n",
      "ComplexNumber: complex\n",
      "Date: datetime\n",
      "Time: timedelta\n",
      "Category: category\n",
      "\n",
      "DataFrame info after conversion:\n",
      "<class 'pandas.core.frame.DataFrame'>\n",
      "RangeIndex: 100000 entries, 0 to 99999\n",
      "Data columns (total 11 columns):\n",
      " #   Column         Non-Null Count   Dtype          \n",
      "---  ------         --------------   -----          \n",
      " 0   ID             100000 non-null  Int32          \n",
      " 1   Name           100000 non-null  object         \n",
      " 2   Age            100000 non-null  category       \n",
      " 3   Height         100000 non-null  Float32        \n",
      " 4   Weight         100000 non-null  Float32        \n",
      " 5   Score          100000 non-null  Float32        \n",
      " 6   IsStudent      100000 non-null  bool           \n",
      " 7   ComplexNumber  100000 non-null  complex128     \n",
      " 8   Date           100000 non-null  datetime64[ns] \n",
      " 9   Time           100000 non-null  timedelta64[ns]\n",
      " 10  Category       100000 non-null  category       \n",
      "dtypes: Float32(3), Int32(1), bool(1), category(2), complex128(1), datetime64[ns](1), object(1), timedelta64[ns](1)\n",
      "memory usage: 6.0+ MB\n"
     ]
    }
   ],
   "source": [
    "import pandas as pd\n",
    "import numpy as np\n",
    "from api.lib.generate_data import generate_data\n",
    "from api.lib.infer_data_types import infer_and_convert_data_types\n",
    "\n",
    "# df = generate_data()\n",
    "# df.to_csv(\"test_data/large_test_data.csv\", index=False)\n",
    "df = pd.read_csv(\"test_data/large_test_data.csv\")\n",
    "\n",
    "# df = pd.read_csv(\"test_data/sample_data.csv\")\n",
    "result_df, statistics = infer_and_convert_data_types(df)\n",
    "print(\"\\nInferred data types:\")\n",
    "for col, stats in statistics.items():\n",
    "    print(f\"{col}: {stats[0]['type']}\")\n",
    "\n",
    "print(\"\\nDataFrame info after conversion:\")\n",
    "result_df.info()\n"
   ]
  }
 ],
 "metadata": {
  "kernelspec": {
   "display_name": "data-cleaning",
   "language": "python",
   "name": "python3"
  },
  "language_info": {
   "codemirror_mode": {
    "name": "ipython",
    "version": 3
   },
   "file_extension": ".py",
   "mimetype": "text/x-python",
   "name": "python",
   "nbconvert_exporter": "python",
   "pygments_lexer": "ipython3",
   "version": "3.12.7"
  }
 },
 "nbformat": 4,
 "nbformat_minor": 2
}
